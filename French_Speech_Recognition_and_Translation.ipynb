{
  "nbformat": 4,
  "nbformat_minor": 0,
  "metadata": {
    "colab": {
      "name": "French Speech Recognition and Translation.ipynb",
      "provenance": [],
      "toc_visible": true,
      "mount_file_id": "1_-JNKKslw6qfVHelSYqF4WzjA_mIDuik",
      "authorship_tag": "ABX9TyPm9yqcce+hEFdFO+jTq35K",
      "include_colab_link": true
    },
    "kernelspec": {
      "name": "python3",
      "display_name": "Python 3"
    }
  },
  "cells": [
    {
      "cell_type": "markdown",
      "metadata": {
        "id": "view-in-github",
        "colab_type": "text"
      },
      "source": [
        "<a href=\"https://colab.research.google.com/github/coneill000/French-Flashcards-with-Anki/blob/file-naming/French_Speech_Recognition_and_Translation.ipynb\" target=\"_parent\"><img src=\"https://colab.research.google.com/assets/colab-badge.svg\" alt=\"Open In Colab\"/></a>"
      ]
    },
    {
      "cell_type": "markdown",
      "metadata": {
        "id": "cJK6Ew4qIO83"
      },
      "source": [
        "# French Speech Recognition and Translation\n",
        "Welcome to my speech recognition and translation program. This was designed to speed up the process of making French Anki flashcards by using the audio captured from the textbook. The program will first recognize the French word being spoken and rename the audio file accordingly. It will then use that word recognition to translate the meaning into English. All of this information will be stored in a Google Sheets, where you can manually check any errors, missing vocab words, etc. Yeah it's kind of overly complicated but who cares. "
      ]
    },
    {
      "cell_type": "markdown",
      "metadata": {
        "id": "noz1OXz6dg2G"
      },
      "source": [
        "## Imports\n",
        "Run this first so you have the necessary imports. The imports are split into two cells, one for pip installs and one for library imports"
      ]
    },
    {
      "cell_type": "code",
      "metadata": {
        "id": "EdxZ7UHPdqL_"
      },
      "source": [
        "!pip install pydub\n",
        "!pip install SpeechRecognition\n",
        "!pip3 install googletrans"
      ],
      "execution_count": null,
      "outputs": []
    },
    {
      "cell_type": "code",
      "metadata": {
        "id": "PsoV1QRMdzfY"
      },
      "source": [
        "import os\n",
        "import re\n",
        "import gspread\n",
        "import speech_recognition as sr\n",
        "from pydub import AudioSegment\n",
        "from googletrans import Translator, constants\n",
        "from google.colab import auth\n",
        "from oauth2client.client import GoogleCredentials\n",
        "from google.colab import drive"
      ],
      "execution_count": 3,
      "outputs": []
    },
    {
      "cell_type": "markdown",
      "metadata": {
        "id": "AgUQINm3PjIi"
      },
      "source": [
        "## Google Authorization\n",
        "Run this to give the program access to your Google Sheets. Please make sure that you mount your Google Drive using Google Colab. "
      ]
    },
    {
      "cell_type": "code",
      "metadata": {
        "id": "uHYBCU7fgkYY"
      },
      "source": [
        "auth.authenticate_user()\n",
        "gc = gspread.authorize(GoogleCredentials.get_application_default())"
      ],
      "execution_count": 4,
      "outputs": []
    },
    {
      "cell_type": "code",
      "metadata": {
        "id": "3viqUY_403D8"
      },
      "source": [
        "drive.mount('/content/drive')"
      ],
      "execution_count": null,
      "outputs": []
    },
    {
      "cell_type": "markdown",
      "metadata": {
        "id": "mkleBU6Pig_3"
      },
      "source": [
        "## User-Set Variables\n"
      ]
    },
    {
      "cell_type": "code",
      "metadata": {
        "id": "7PiirMYqik4a"
      },
      "source": [
        "directory = '/content/drive/My Drive/Ch3Vocab' #change this to directory where audio files are stored\n",
        "sheetname = 'En avant Ch3Vocab' #change this to desired name of Google Sheets document\n",
        "tag = 'EnAvantCh3' #change this to the desired tag(s) you want on the cards"
      ],
      "execution_count": 7,
      "outputs": []
    },
    {
      "cell_type": "markdown",
      "metadata": {
        "id": "aiyBeWE7jkCN"
      },
      "source": [
        "## Main Program (aka Under the Hood)"
      ]
    },
    {
      "cell_type": "code",
      "metadata": {
        "id": "XE-OfT50jnf7"
      },
      "source": [
        "successpath = os.path.join(directory, 'success') \n",
        "errorpath = os.path.join(directory, 'error')\n",
        "os.mkdir(successpath)\n",
        "os.mkdir(errorpath)"
      ],
      "execution_count": 8,
      "outputs": []
    },
    {
      "cell_type": "code",
      "metadata": {
        "id": "J1He65bumKrb"
      },
      "source": [
        "r = sr.Recognizer()\n",
        "translator = Translator()\n",
        "frenchlist = []"
      ],
      "execution_count": 9,
      "outputs": []
    },
    {
      "cell_type": "code",
      "metadata": {
        "id": "Exb6IwfolKpX"
      },
      "source": [
        "for filename in os.listdir(directory):\n",
        "    is_match = bool(re.match(\"S.mp3|S-\\d.mp3|S-\\d\\d.mp3|S-\\d\\d\\d.mp3\", filename))\n",
        "    if is_match:\n",
        "        src = f'{directory}/{filename}'\n",
        "        dst = f'{directory}/{filename[:-4]}.wav'\n",
        "        sound = AudioSegment.from_mp3(src)\n",
        "        sound.export(dst, format=\"wav\")\n",
        "        temp = sr.AudioFile(dst)\n",
        "        with temp as source:\n",
        "            audio = r.record(source)\n",
        "        try:\n",
        "            french = r.recognize_google(audio, language='fr-FR')\n",
        "            if \"'\" in french:\n",
        "                french = french.replace(\"'\", \"_\")\n",
        "            os.rename(src, f'{successpath}/{french}.mp3')\n",
        "            frenchlist.append(french)\n",
        "        except:\n",
        "            os.rename(src, f'{errorpath}/{filename}')"
      ],
      "execution_count": 12,
      "outputs": []
    },
    {
      "cell_type": "code",
      "metadata": {
        "id": "Q95uAFCXnFHu"
      },
      "source": [
        "#sets up sheet/opens pre-existing sheet for info storage\n",
        "sh = gc.create(sheetname)\n",
        "worksheet = gc.open(sheetname).sheet1"
      ],
      "execution_count": 13,
      "outputs": []
    },
    {
      "cell_type": "code",
      "metadata": {
        "id": "MDxcqPmPnYs8"
      },
      "source": [
        "#sets up basic worksheet information\n",
        "worksheet.update_cell(1, 1, \"French\")\n",
        "worksheet.update_cell(1, 2, \"English\")\n",
        "worksheet.update_cell(1, 3, \"Audio\")\n",
        "worksheet.update_cell(1, 4, \"Tags\")\n",
        "\n",
        "num = len(frenchlist) + 1\n",
        "french_cells = worksheet.range(f'A2:A{num}')\n",
        "meaning_cells = worksheet.range(f'B2:B{num}')\n",
        "audio_cells = worksheet.range(f'C2:C{num}')\n",
        "tag_cells = worksheet.range(f'D2:D{num}')"
      ],
      "execution_count": 14,
      "outputs": []
    },
    {
      "cell_type": "code",
      "metadata": {
        "id": "hxatRmA70ph0"
      },
      "source": [
        "#fills in Google Sheet with information\n",
        "for i, cell in enumerate(french_cells):\n",
        "    cell.value = frenchlist[i]\n",
        "\n",
        "for i, cell in enumerate(meaning_cells):\n",
        "    translation = translator.translate(frenchlist[i], src=\"fr\")\n",
        "    cell.value = translation.text\n",
        "\n",
        "for i, cell in enumerate(audio_cells):\n",
        "    cell.value = f\"[sound:{frenchlist[i]}.mp3]\"\n",
        "\n",
        "for i, cell in enumerate(tag_cells):\n",
        "    cell.value = tag\n",
        "\n",
        "worksheet.update_cells(french_cells)\n",
        "worksheet.update_cells(meaning_cells)\n",
        "worksheet.update_cells(audio_cells)\n",
        "worksheet.update_cells(tag_cells)"
      ],
      "execution_count": null,
      "outputs": []
    }
  ]
}