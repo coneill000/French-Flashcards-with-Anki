{
  "nbformat": 4,
  "nbformat_minor": 0,
  "metadata": {
    "colab": {
      "name": "French Speech Recognition and Translation.ipynb",
      "provenance": [],
      "toc_visible": true,
      "mount_file_id": "1_-JNKKslw6qfVHelSYqF4WzjA_mIDuik",
      "authorship_tag": "ABX9TyNZbxVGJE/r4XXfVqZU/k8O",
      "include_colab_link": true
    },
    "kernelspec": {
      "name": "python3",
      "display_name": "Python 3"
    }
  },
  "cells": [
    {
      "cell_type": "markdown",
      "metadata": {
        "id": "view-in-github",
        "colab_type": "text"
      },
      "source": [
        "<a href=\"https://colab.research.google.com/github/coneill000/French-Flashcards-with-Anki/blob/main/French_Speech_Recognition_and_Translation.ipynb\" target=\"_parent\"><img src=\"https://colab.research.google.com/assets/colab-badge.svg\" alt=\"Open In Colab\"/></a>"
      ]
    },
    {
      "cell_type": "markdown",
      "metadata": {
        "id": "cJK6Ew4qIO83"
      },
      "source": [
        "# French Speech Recognition and Translation\n",
        "Welcome to my speech recognition and translation program. This was designed to speed up the process of making French Anki flashcards by using the audio captured from the textbook. The program will first recognize the French word being spoken and rename the audio file accordingly. It will then use that word recognition to translate the meaning into English. All of this information will be stored in a Google Sheets, where you can manually check any errors, missing vocab words, etc. Yeah it's kind of overly complicated but who cares. "
      ]
    },
    {
      "cell_type": "markdown",
      "metadata": {
        "id": "noz1OXz6dg2G"
      },
      "source": [
        "## Imports\n",
        "Run this first so you have the necessary imports. The imports are split into two cells, one for pip installs and one for library imports"
      ]
    },
    {
      "cell_type": "code",
      "metadata": {
        "id": "EdxZ7UHPdqL_",
        "outputId": "f8698345-6fd8-4b89-eb77-e8ceb9e58516",
        "colab": {
          "base_uri": "https://localhost:8080/",
          "height": 921
        }
      },
      "source": [
        "!pip install pydub\n",
        "!pip install SpeechRecognition\n",
        "!pip3 install googletrans"
      ],
      "execution_count": null,
      "outputs": [
        {
          "output_type": "stream",
          "text": [
            "Collecting pydub\n",
            "  Downloading https://files.pythonhosted.org/packages/7b/d1/fbfa79371a8cd9bb15c2e3c480d7e6e340ed5cc55005174e16f48418333a/pydub-0.24.1-py2.py3-none-any.whl\n",
            "Installing collected packages: pydub\n",
            "Successfully installed pydub-0.24.1\n",
            "Collecting SpeechRecognition\n",
            "\u001b[?25l  Downloading https://files.pythonhosted.org/packages/26/e1/7f5678cd94ec1234269d23756dbdaa4c8cfaed973412f88ae8adf7893a50/SpeechRecognition-3.8.1-py2.py3-none-any.whl (32.8MB)\n",
            "\u001b[K     |████████████████████████████████| 32.8MB 122kB/s \n",
            "\u001b[?25hInstalling collected packages: SpeechRecognition\n",
            "Successfully installed SpeechRecognition-3.8.1\n",
            "Collecting googletrans\n",
            "  Downloading https://files.pythonhosted.org/packages/71/3a/3b19effdd4c03958b90f40fe01c93de6d5280e03843cc5adf6956bfc9512/googletrans-3.0.0.tar.gz\n",
            "Collecting httpx==0.13.3\n",
            "\u001b[?25l  Downloading https://files.pythonhosted.org/packages/54/b4/698b284c6aed4d7c2b4fe3ba5df1fcf6093612423797e76fbb24890dd22f/httpx-0.13.3-py3-none-any.whl (55kB)\n",
            "\u001b[K     |████████████████████████████████| 61kB 5.0MB/s \n",
            "\u001b[?25hCollecting hstspreload\n",
            "\u001b[?25l  Downloading https://files.pythonhosted.org/packages/f0/16/59b51f8e640f16acad2c0e101fa1e55a87bfd80cff23f77ab23cb8927541/hstspreload-2020.10.6-py3-none-any.whl (965kB)\n",
            "\u001b[K     |████████████████████████████████| 972kB 13.4MB/s \n",
            "\u001b[?25hCollecting sniffio\n",
            "  Downloading https://files.pythonhosted.org/packages/52/b0/7b2e028b63d092804b6794595871f936aafa5e9322dcaaad50ebf67445b3/sniffio-1.2.0-py3-none-any.whl\n",
            "Collecting rfc3986<2,>=1.3\n",
            "  Downloading https://files.pythonhosted.org/packages/78/be/7b8b99fd74ff5684225f50dd0e865393d2265656ef3b4ba9eaaaffe622b8/rfc3986-1.4.0-py2.py3-none-any.whl\n",
            "Requirement already satisfied: certifi in /usr/local/lib/python3.6/dist-packages (from httpx==0.13.3->googletrans) (2020.6.20)\n",
            "Requirement already satisfied: idna==2.* in /usr/local/lib/python3.6/dist-packages (from httpx==0.13.3->googletrans) (2.10)\n",
            "Collecting httpcore==0.9.*\n",
            "\u001b[?25l  Downloading https://files.pythonhosted.org/packages/dd/d5/e4ff9318693ac6101a2095e580908b591838c6f33df8d3ee8dd953ba96a8/httpcore-0.9.1-py3-none-any.whl (42kB)\n",
            "\u001b[K     |████████████████████████████████| 51kB 7.0MB/s \n",
            "\u001b[?25hRequirement already satisfied: chardet==3.* in /usr/local/lib/python3.6/dist-packages (from httpx==0.13.3->googletrans) (3.0.4)\n",
            "Collecting contextvars>=2.1; python_version < \"3.7\"\n",
            "  Downloading https://files.pythonhosted.org/packages/83/96/55b82d9f13763be9d672622e1b8106c85acb83edd7cc2fa5bc67cd9877e9/contextvars-2.4.tar.gz\n",
            "Collecting h11<0.10,>=0.8\n",
            "\u001b[?25l  Downloading https://files.pythonhosted.org/packages/5a/fd/3dad730b0f95e78aeeb742f96fa7bbecbdd56a58e405d3da440d5bfb90c6/h11-0.9.0-py2.py3-none-any.whl (53kB)\n",
            "\u001b[K     |████████████████████████████████| 61kB 7.3MB/s \n",
            "\u001b[?25hCollecting h2==3.*\n",
            "\u001b[?25l  Downloading https://files.pythonhosted.org/packages/25/de/da019bcc539eeab02f6d45836f23858ac467f584bfec7a526ef200242afe/h2-3.2.0-py2.py3-none-any.whl (65kB)\n",
            "\u001b[K     |████████████████████████████████| 71kB 8.7MB/s \n",
            "\u001b[?25hCollecting immutables>=0.9\n",
            "\u001b[?25l  Downloading https://files.pythonhosted.org/packages/99/e0/ea6fd4697120327d26773b5a84853f897a68e33d3f9376b00a8ff96e4f63/immutables-0.14-cp36-cp36m-manylinux1_x86_64.whl (98kB)\n",
            "\u001b[K     |████████████████████████████████| 102kB 10.6MB/s \n",
            "\u001b[?25hCollecting hpack<4,>=3.0\n",
            "  Downloading https://files.pythonhosted.org/packages/8a/cc/e53517f4a1e13f74776ca93271caef378dadec14d71c61c949d759d3db69/hpack-3.0.0-py2.py3-none-any.whl\n",
            "Collecting hyperframe<6,>=5.2.0\n",
            "  Downloading https://files.pythonhosted.org/packages/19/0c/bf88182bcb5dce3094e2f3e4fe20db28a9928cb7bd5b08024030e4b140db/hyperframe-5.2.0-py2.py3-none-any.whl\n",
            "Building wheels for collected packages: googletrans, contextvars\n",
            "  Building wheel for googletrans (setup.py) ... \u001b[?25l\u001b[?25hdone\n",
            "  Created wheel for googletrans: filename=googletrans-3.0.0-cp36-none-any.whl size=15736 sha256=c78c487db1ecde30bffef60fe01e9e5d7da8d008145b55fd9051f6601c25ca7e\n",
            "  Stored in directory: /root/.cache/pip/wheels/28/1a/a7/eaf4d7a3417a0c65796c547cff4deb6d79c7d14c2abd29273e\n",
            "  Building wheel for contextvars (setup.py) ... \u001b[?25l\u001b[?25hdone\n",
            "  Created wheel for contextvars: filename=contextvars-2.4-cp36-none-any.whl size=7666 sha256=d9abe1f5deed2aa78dbd51dcbad9f0caf7dc83fff35d19de11b17c84e281722f\n",
            "  Stored in directory: /root/.cache/pip/wheels/a5/7d/68/1ebae2668bda2228686e3c1cf16f2c2384cea6e9334ad5f6de\n",
            "Successfully built googletrans contextvars\n",
            "Installing collected packages: hstspreload, immutables, contextvars, sniffio, rfc3986, h11, hpack, hyperframe, h2, httpcore, httpx, googletrans\n",
            "Successfully installed contextvars-2.4 googletrans-3.0.0 h11-0.9.0 h2-3.2.0 hpack-3.0.0 hstspreload-2020.10.6 httpcore-0.9.1 httpx-0.13.3 hyperframe-5.2.0 immutables-0.14 rfc3986-1.4.0 sniffio-1.2.0\n"
          ],
          "name": "stdout"
        }
      ]
    },
    {
      "cell_type": "code",
      "metadata": {
        "id": "PsoV1QRMdzfY"
      },
      "source": [
        "import os\n",
        "import re\n",
        "import gspread\n",
        "import speech_recognition as sr\n",
        "from pydub import AudioSegment\n",
        "from googletrans import Translator, constants\n",
        "from google.colab import auth\n",
        "from oauth2client.client import GoogleCredentials"
      ],
      "execution_count": null,
      "outputs": []
    },
    {
      "cell_type": "markdown",
      "metadata": {
        "id": "AgUQINm3PjIi"
      },
      "source": [
        "## Google Authorization\n",
        "Run this to give the program access to your Google Sheets. Please make sure that you mount your Google Drive using Google Colab. "
      ]
    },
    {
      "cell_type": "code",
      "metadata": {
        "id": "uHYBCU7fgkYY"
      },
      "source": [
        "auth.authenticate_user()\n",
        "gc = gspread.authorize(GoogleCredentials.get_application_default())"
      ],
      "execution_count": null,
      "outputs": []
    },
    {
      "cell_type": "markdown",
      "metadata": {
        "id": "mkleBU6Pig_3"
      },
      "source": [
        "## User-Set Variables\n"
      ]
    },
    {
      "cell_type": "code",
      "metadata": {
        "id": "7PiirMYqik4a"
      },
      "source": [
        "directory = '/content/drive/My Drive/Ch2Vocab' #change this to directory where audio files are stored\n",
        "sheetname = 'En avant Ch2Vocab' #change this to desired name of Google Sheets document\n",
        "tag = 'EnAvantCh2'"
      ],
      "execution_count": null,
      "outputs": []
    },
    {
      "cell_type": "markdown",
      "metadata": {
        "id": "aiyBeWE7jkCN"
      },
      "source": [
        "## Main Program (aka Under the Hood)"
      ]
    },
    {
      "cell_type": "code",
      "metadata": {
        "id": "XE-OfT50jnf7"
      },
      "source": [
        "successpath = os.path.join(directory, 'success') \n",
        "errorpath = os.path.join(directory, 'error')\n",
        "os.mkdir(successpath)\n",
        "os.mkdir(errorpath)"
      ],
      "execution_count": null,
      "outputs": []
    },
    {
      "cell_type": "code",
      "metadata": {
        "id": "J1He65bumKrb"
      },
      "source": [
        "r = sr.Recognizer()\n",
        "translator = Translator()\n",
        "frenchlist = []"
      ],
      "execution_count": null,
      "outputs": []
    },
    {
      "cell_type": "code",
      "metadata": {
        "id": "Exb6IwfolKpX"
      },
      "source": [
        "for filename in os.listdir(directory):\n",
        "    is_match = bool(re.match(\"S.mp3|S-\\d.mp3|S-\\d\\d.mp3|S-\\d\\d\\d.mp3\", filename))\n",
        "    if is_match:\n",
        "        src = f'{directory}/{filename}'\n",
        "        dst = f'{directory}/{filename[:-4]}.wav'\n",
        "        sound = AudioSegment.from_mp3(src)\n",
        "        sound.export(dst, format=\"wav\")\n",
        "        temp = sr.AudioFile(dst)\n",
        "        with temp as source:\n",
        "            audio = r.record(source)\n",
        "        try:\n",
        "            french = r.recognize_google(audio, language='fr-FR')\n",
        "            os.rename(src, f'{successpath}/{french}.mp3')\n",
        "            frenchlist.append(french)\n",
        "        except:\n",
        "            os.rename(src, f'{errorpath}/{filename}')"
      ],
      "execution_count": null,
      "outputs": []
    },
    {
      "cell_type": "code",
      "metadata": {
        "id": "Q95uAFCXnFHu"
      },
      "source": [
        "#sets up sheet/opens pre-existing sheet for info storage\n",
        "sh = gc.create(sheetname)\n",
        "worksheet = gc.open(sheetname).sheet1"
      ],
      "execution_count": null,
      "outputs": []
    },
    {
      "cell_type": "code",
      "metadata": {
        "id": "MDxcqPmPnYs8"
      },
      "source": [
        "#sets up basic worksheet information\n",
        "worksheet.update_cell(1, 1, \"French\")\n",
        "worksheet.update_cell(1, 2, \"English\")\n",
        "worksheet.update_cell(1, 3, \"Audio\")\n",
        "worksheet.update_cell(1, 4, \"Tags\")\n",
        "\n",
        "num = len(frenchlist) + 1\n",
        "french_cells = worksheet.range(f'A2:A{num}')\n",
        "meaning_cells = worksheet.range(f'B2:B{num}')\n",
        "audio_cells = worksheet.range(f'C2:C{num}')\n",
        "tag_cells = worksheet.range(f'D2:D{num}')"
      ],
      "execution_count": null,
      "outputs": []
    },
    {
      "cell_type": "code",
      "metadata": {
        "id": "hxatRmA70ph0",
        "outputId": "78b68727-bdad-4e34-cdfe-426049d2e720",
        "colab": {
          "base_uri": "https://localhost:8080/",
          "height": 102
        }
      },
      "source": [
        "#fills in Google Sheet with information\n",
        "for i, cell in enumerate(french_cells):\n",
        "    cell.value = frenchlist[i]\n",
        "\n",
        "for i, cell in enumerate(meaning_cells):\n",
        "    translation = translator.translate(frenchlist[i], src=\"fr\")\n",
        "    cell.value = translation.text\n",
        "\n",
        "for i, cell in enumerate(audio_cells):\n",
        "    cell.value = f\"[sound:{frenchlist[i]}.mp3]\"\n",
        "\n",
        "for i, cell in enumerate(tag_cells):\n",
        "    cell.value = tag\n",
        "\n",
        "worksheet.update_cells(french_cells)\n",
        "worksheet.update_cells(meaning_cells)\n",
        "worksheet.update_cells(audio_cells)\n",
        "worksheet.update_cells(tag_cells)"
      ],
      "execution_count": null,
      "outputs": [
        {
          "output_type": "execute_result",
          "data": {
            "text/plain": [
              "{'spreadsheetId': '1ndHSdxtLKCH_txTcJjCKmwqZ22KMjZyW1oNacYnKGL8',\n",
              " 'updatedCells': 155,\n",
              " 'updatedColumns': 1,\n",
              " 'updatedRange': 'Sheet1!D2:D156',\n",
              " 'updatedRows': 155}"
            ]
          },
          "metadata": {
            "tags": []
          },
          "execution_count": 17
        }
      ]
    }
  ]
}